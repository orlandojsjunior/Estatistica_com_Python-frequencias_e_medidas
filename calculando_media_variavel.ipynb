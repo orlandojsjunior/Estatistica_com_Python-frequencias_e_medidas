{
  "cells": [
    {
      "cell_type": "markdown",
      "metadata": {
        "id": "view-in-github",
        "colab_type": "text"
      },
      "source": [
        "<a href=\"https://colab.research.google.com/github/orlandojsjunior/Estatistica_com_Python_frequencias_e_medidas/blob/main/calculando_media_variavel.ipynb\" target=\"_parent\"><img src=\"https://colab.research.google.com/assets/colab-badge.svg\" alt=\"Open In Colab\"/></a>"
      ]
    },
    {
      "cell_type": "markdown",
      "metadata": {
        "id": "VIcxNlAex9iq"
      },
      "source": [
        "#### Utilizando um notebook do Colab e tendo o conjunto de dados abaixo:"
      ]
    },
    {
      "cell_type": "code",
      "execution_count": 1,
      "metadata": {
        "id": "oIHTumWWx9ir"
      },
      "outputs": [],
      "source": [
        "import pandas as pd"
      ]
    },
    {
      "cell_type": "code",
      "execution_count": 2,
      "metadata": {
        "id": "smuH1iL7x9is"
      },
      "outputs": [],
      "source": [
        "dataset = pd.DataFrame({\n",
        "    'Sexo': ['H', 'M', 'M', 'M', 'M', 'H', 'H', 'H', 'M', 'M'],\n",
        "    'Idade': [53, 72, 54, 27, 30, 40, 58, 32, 44, 51]\n",
        "})"
      ]
    },
    {
      "cell_type": "markdown",
      "metadata": {
        "id": "T2aP4NK7x9is"
      },
      "source": [
        "#### Obtenha a média aritmética do data frame.\n",
        "\n",
        "#### Observação: Na variável Sexo, 'H' representa os homens e 'M' as mulheres."
      ]
    },
    {
      "cell_type": "code",
      "execution_count": 3,
      "metadata": {
        "id": "ppuqUk4wx9is",
        "outputId": "196f1e69-425a-45a8-ed84-f85c7bfb5d45",
        "colab": {
          "base_uri": "https://localhost:8080/"
        }
      },
      "outputs": [
        {
          "output_type": "execute_result",
          "data": {
            "text/plain": [
              "46.1"
            ]
          },
          "metadata": {},
          "execution_count": 3
        }
      ],
      "source": [
        "media_idades = dataset['Idade'].mean()\n",
        "media_idades"
      ]
    },
    {
      "cell_type": "markdown",
      "metadata": {
        "id": "jMpHLnk0x9is"
      },
      "source": [
        "##### Quando executa este código, ele calculará a média aritmética das idades, independentemente do sexo dos indivíduos. Caso seja necessário calcular a média separadamente para homens e mulheres, é só agrupar os dados por sexo antes de calcular a média."
      ]
    },
    {
      "cell_type": "code",
      "execution_count": 4,
      "metadata": {
        "id": "OMRE0a3xx9it",
        "outputId": "1d977699-6219-4083-f995-c52a87154303",
        "colab": {
          "base_uri": "https://localhost:8080/"
        }
      },
      "outputs": [
        {
          "output_type": "execute_result",
          "data": {
            "text/plain": [
              "Idade    45.75\n",
              "Name: H, dtype: float64"
            ]
          },
          "metadata": {},
          "execution_count": 4
        }
      ],
      "source": [
        "dataset.groupby('Sexo').mean().loc['H']"
      ]
    }
  ],
  "metadata": {
    "kernelspec": {
      "display_name": "Python 3",
      "language": "python",
      "name": "python3"
    },
    "language_info": {
      "codemirror_mode": {
        "name": "ipython",
        "version": 3
      },
      "file_extension": ".py",
      "mimetype": "text/x-python",
      "name": "python",
      "nbconvert_exporter": "python",
      "pygments_lexer": "ipython3",
      "version": "3.12.3"
    },
    "colab": {
      "provenance": [],
      "include_colab_link": true
    }
  },
  "nbformat": 4,
  "nbformat_minor": 0
}